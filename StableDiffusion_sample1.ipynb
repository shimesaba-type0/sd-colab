{
  "nbformat": 4,
  "nbformat_minor": 0,
  "metadata": {
    "colab": {
      "provenance": [],
      "gpuType": "A100",
      "authorship_tag": "ABX9TyOUrM2jS+PzVKe3oKyqEvM9",
      "include_colab_link": true
    },
    "kernelspec": {
      "name": "python3",
      "display_name": "Python 3"
    },
    "language_info": {
      "name": "python"
    },
    "accelerator": "GPU"
  },
  "cells": [
    {
      "cell_type": "markdown",
      "metadata": {
        "id": "view-in-github",
        "colab_type": "text"
      },
      "source": [
        "<a href=\"https://colab.research.google.com/github/shimesaba-type0/sd-colab/blob/update1/StableDiffusion_sample1.ipynb\" target=\"_parent\"><img src=\"https://colab.research.google.com/assets/colab-badge.svg\" alt=\"Open In Colab\"/></a>"
      ]
    },
    {
      "cell_type": "markdown",
      "source": [
        "## 0. 必要ツールのインストール\n"
      ],
      "metadata": {
        "id": "g-89hfQpiZU2"
      }
    },
    {
      "cell_type": "code",
      "source": [
        "!nvidia-smi\n",
        "!apt install aria2"
      ],
      "metadata": {
        "id": "dbvUF_TNiizY"
      },
      "execution_count": null,
      "outputs": []
    },
    {
      "cell_type": "markdown",
      "source": [
        "## 1. Stable Diffusion Web UI をインストール"
      ],
      "metadata": {
        "id": "RipruxL5fM2i"
      }
    },
    {
      "cell_type": "code",
      "execution_count": null,
      "metadata": {
        "id": "OVCJuRCFdtHF"
      },
      "outputs": [],
      "source": [
        "# clone stable diffusion web ui\n",
        "!git clone https://github.com/AUTOMATIC1111/stable-diffusion-webui\n",
        "# move dir\n",
        "%cd /content/stable-diffusion-webui\n",
        "\n",
        "# launch\n",
        "#!python launch.py --share --xformers --enable-insecure-extension-access"
      ]
    },
    {
      "cell_type": "markdown",
      "source": [
        "## 2. モデルなどのインストール"
      ],
      "metadata": {
        "id": "dLGKJ22yfTeI"
      }
    },
    {
      "cell_type": "markdown",
      "source": [
        "### Model のダウンロード\n",
        "BracingEvoMix_v1\n",
        "https://huggingface.co/sazyou-roukaku/BracingEvoMix/tree/main\n",
        "lastpieceMix_v1\n",
        "https://huggingface.co/konapieces/lastpieceMix/tree/main\n"
      ],
      "metadata": {
        "id": "WvgX3RzxID4K"
      }
    },
    {
      "cell_type": "code",
      "source": [
        "!aria2c -d /content/stable-diffusion-webui/models/Stable-diffusion -o BracingEvoMix_v1.safetensors -x 2 https://huggingface.co/sazyou-roukaku/BracingEvoMix/resolve/main/BracingEvoMix_v1.safetensors\n",
        "!aria2c -d /content/stable-diffusion-webui/models/Stable-diffusion -o lastpieceMix_v1_fp16.safetensors -x 2 https://huggingface.co/konapieces/lastpieceMix/resolve/main/models/lastpieceMix_v1_fp16.safetensors\n",
        "#!curl -Lo /content/stable-diffusion-webui/models/Stable-diffusion/BracingEvoMix_v1.safetensors https://huggingface.co/sazyou-roukaku/BracingEvoMix/resolve/main/BracingEvoMix_v1.safetensors\n",
        "#!curl -Lo /content/stable-diffusion-webui/models/Stable-diffusion/lastpieceMix_v1_fp16.safetensors https://huggingface.co/konapieces/lastpieceMix/resolve/main/models/lastpieceMix_v1_fp16.safetensors\n",
        "#!ls -lh /content/stable-diffusion-webui/models/Stable-diffusion/"
      ],
      "metadata": {
        "id": "M3iYgwUrHDse"
      },
      "execution_count": null,
      "outputs": []
    },
    {
      "cell_type": "markdown",
      "source": [
        "### VAE のダウンロード\n",
        "vae-ft-mse-840000-ema-pruned\n",
        "https://huggingface.co/stabilityai/sd-vae-ft-mse-original/tree/main"
      ],
      "metadata": {
        "id": "Tmhfq2VjI48G"
      }
    },
    {
      "cell_type": "code",
      "source": [
        "!aria2c -d /content/stable-diffusion-webui/models/VAE -o vae-ft-mse-840000-ema-pruned.safetensors -x 2 https://huggingface.co/stabilityai/sd-vae-ft-mse-original/resolve/main/vae-ft-mse-840000-ema-pruned.safetensors\n",
        "#!curl -Lo /content/stable-diffusion-webui/models/VAE/vae-ft-mse-840000-ema-pruned.safetensors https://huggingface.co/stabilityai/sd-vae-ft-mse-original/resolve/main/vae-ft-mse-840000-ema-pruned.safetensors\n",
        "# !ls -lh /content/stable-diffusion-webui/models/VAE/\n",
        "#!sed '/\"sd_vae\"/s/default/vae-ft-mse-840000-ema-pruned.safetensors/' /content/stable-diffusion-webui/config.json -i\n",
        "#!sed -n '/\"sd_vae\"/,1p' /content/stable-diffusion-webui/config.json"
      ],
      "metadata": {
        "id": "1Cwt0LQMI4aL"
      },
      "execution_count": null,
      "outputs": []
    },
    {
      "cell_type": "markdown",
      "source": [
        "## (Option) 拡張機能とか入れる"
      ],
      "metadata": {
        "id": "w0ytEWiIfDnf"
      }
    },
    {
      "cell_type": "markdown",
      "source": [
        "### ControlNetを入れる(Option)\n",
        "希望する場合はインストールする\n",
        "https://github.com/Mikubill/sd-webui-controlnet.git"
      ],
      "metadata": {
        "id": "ET6FHlVIO2Q2"
      }
    },
    {
      "cell_type": "code",
      "source": [
        "# ControlNet をクローンする\n",
        "!git clone https://github.com/Mikubill/sd-webui-controlnet.git /content/stable-diffusion-webui/extensions/sd-webui-controlnet\n",
        "# Multi ControlNet を 3 にする\n",
        "#!sed"
      ],
      "metadata": {
        "id": "WdyTfYaIO149"
      },
      "execution_count": null,
      "outputs": []
    },
    {
      "cell_type": "markdown",
      "source": [
        "### ControlNet 用のモデルを入れる\n",
        "※ControlNet をインストールした場合は、モデルをインストールすること\n",
        "モデルの特徴の説明\n",
        "https://github.com/lllyasviel/ControlNet#controlnet-with-canny-edge\n",
        "とりあえず入れてみる\n",
        "https://huggingface.co/lllyasviel/ControlNet/resolve/main/models/control_sd15_canny.pth"
      ],
      "metadata": {
        "id": "8sIOe_B27zhD"
      }
    },
    {
      "cell_type": "code",
      "source": [
        "!aria2c -d /content/stable-diffusion-webui/extensions/sd-webui-controlnet/models/ -o control_sd15_canny.pth -x 2 https://huggingface.co/lllyasviel/ControlNet/resolve/main/models/control_sd15_canny.pth\n",
        "#!curl -Lo /content/stable-diffusion-webui/extensions/sd-webui-controlnet/models/control_sd15_canny.pth https://huggingface.co/lllyasviel/ControlNet/resolve/main/models/control_sd15_canny.pth\n",
        "\n",
        "!aria2c -d /content/stable-diffusion-webui/extensions/sd-webui-controlnet/models/ -o control_v11p_sd15_lineart.pth -x 2 https://huggingface.co/lllyasviel/ControlNet-v1-1/resolve/main/control_v11p_sd15_lineart.pth\n",
        "!aria2c -d /content/stable-diffusion-webui/extensions/sd-webui-controlnet/models/ -o control_v1p_sd15_brightness.safetensors -x 2 https://huggingface.co/ioclab/ioc-controlnet/resolve/main/models/control_v1p_sd15_brightness.safetensors"
      ],
      "metadata": {
        "id": "-Vy1BgccUXp9"
      },
      "execution_count": null,
      "outputs": []
    },
    {
      "cell_type": "markdown",
      "source": [
        "### prompt 補完拡張機能を入れる(Option)\n",
        "希望する場合はインストールする\n",
        "https://github.com/DominikDoom/a1111-sd-webui-tagcomplete"
      ],
      "metadata": {
        "id": "xo6YiduJeNES"
      }
    },
    {
      "cell_type": "code",
      "source": [
        "!git clone https://github.com/DominikDoom/a1111-sd-webui-tagcomplete.git /content/stable-diffusion-webui/extensions/a1111-sd-webui-tagcomplete\n",
        "# !ls -lh /content/stable-diffusion-webui/extensions/"
      ],
      "metadata": {
        "id": "o4FXDwjReRtu"
      },
      "execution_count": null,
      "outputs": []
    },
    {
      "cell_type": "markdown",
      "source": [
        "### AIイラストの顔や手を自動認識して崩れを補正してくれる拡張機能を入れる(Option)\n",
        "希望する場合はインストールする\n",
        "https://github.com/Bing-su/adetailer.git"
      ],
      "metadata": {
        "id": "xWjiRbz1g-Xg"
      }
    },
    {
      "cell_type": "code",
      "source": [
        "!git clone https://github.com/Bing-su/adetailer.git /content/stable-diffusion-webui/extensions/adetailer"
      ],
      "metadata": {
        "id": "LXUerK4EhCIu"
      },
      "execution_count": null,
      "outputs": []
    },
    {
      "cell_type": "markdown",
      "source": [
        "### Regional Prompter をインストールする(Option)\n",
        "希望する場合はインストールする\n",
        "https://github.com/hako-mikan/sd-webui-regional-prompter"
      ],
      "metadata": {
        "id": "OL8OOoKYjLxc"
      }
    },
    {
      "cell_type": "code",
      "source": [
        "!git clone https://github.com/hako-mikan/sd-webui-regional-prompter.git /content/stable-diffusion-webui/extensions/sd-webui-regional-prompter"
      ],
      "metadata": {
        "id": "SA5TgabMjapJ"
      },
      "execution_count": null,
      "outputs": []
    },
    {
      "cell_type": "markdown",
      "source": [
        "### QR Code Generator をインストールする(Option)\n",
        "希望する場合はインストールする\n",
        "https://github.com/missionfloyd/webui-qrcode-generator\n"
      ],
      "metadata": {
        "id": "xjbOKjYR9yau"
      }
    },
    {
      "cell_type": "code",
      "source": [
        "!git clone https://github.com/missionfloyd/webui-qrcode-generator.git /content/stable-diffusion-webui/extensions/webui-qrcode-generator"
      ],
      "metadata": {
        "id": "lIh2XABF-CYx"
      },
      "execution_count": null,
      "outputs": []
    },
    {
      "cell_type": "markdown",
      "source": [
        "## 3. Stable Diffusion Web UI を実行"
      ],
      "metadata": {
        "id": "yspa57Z0HEbN"
      }
    },
    {
      "cell_type": "code",
      "source": [
        "# Web UI tunnel\n",
        "!COMMANDLINE_ARGS=\"--share --disable-safe-unpickle --no-half-vae --xformers --enable-insecure-extension --gradio-queue\" REQS_FILE=\"requirements.txt\" python launch.py"
      ],
      "metadata": {
        "id": "L-O8ofF9HByL"
      },
      "execution_count": null,
      "outputs": []
    }
  ]
}